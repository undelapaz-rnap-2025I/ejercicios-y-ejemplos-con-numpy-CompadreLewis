{
  "nbformat": 4,
  "nbformat_minor": 0,
  "metadata": {
    "colab": {
      "provenance": []
    },
    "kernelspec": {
      "name": "python3",
      "display_name": "Python 3"
    },
    "language_info": {
      "name": "python"
    }
  },
  "cells": [
    {
      "cell_type": "markdown",
      "source": [
        "# Ejercicios y ejemplos en Python con Numpy"
      ],
      "metadata": {
        "id": "4joaQiDWA6JG"
      }
    },
    {
      "cell_type": "markdown",
      "source": [
        "Este cuaderno ofrece una introducción práctica a NumPy, una biblioteca fundamental de Python para la computación numérica y la manipulación de datos. Su objetivo es enseñar el uso de `ndarray`, la estructura principal de NumPy, para trabajar con arreglos multidimensionales y realizar operaciones matemáticas de forma eficiente. Se abordan temas como la creación de arreglos, indexación, slicing y técnicas de vectorización para mejorar el rendimiento."
      ],
      "metadata": {
        "id": "FJLwgIshCFLA"
      }
    },
    {
      "cell_type": "markdown",
      "source": [],
      "metadata": {
        "id": "hqlAuHsk415_"
      }
    },
    {
      "cell_type": "markdown",
      "source": [
        "\n",
        "\n",
        "## 1.   Examples: Introduction to Numpy"
      ],
      "metadata": {
        "id": "4JkEk-QTCwpU"
      }
    },
    {
      "cell_type": "markdown",
      "source": [
        "\n",
        "### 1.   Basic Indexing\n",
        "\n",
        "\n"
      ],
      "metadata": {
        "id": "c8sdGfQ4DVb1"
      }
    },
    {
      "cell_type": "code",
      "execution_count": 1,
      "metadata": {
        "colab": {
          "base_uri": "https://localhost:8080/"
        },
        "id": "N-AfiJvZAzFd",
        "outputId": "4f6efcf1-d2b6-4d32-dedf-668bc5cd3434"
      },
      "outputs": [
        {
          "output_type": "stream",
          "name": "stdout",
          "text": [
            "30\n"
          ]
        }
      ],
      "source": [
        "import numpy as np\n",
        "\n",
        "arr = np.array([10, 20, 30, 40, 50])\n",
        "print(arr[2])"
      ]
    },
    {
      "cell_type": "markdown",
      "source": [
        "En este ejemplo se puede observar como acceder al elemento de un array unidimensional usando el indice de dicho elemento. En este caso el indice es 2 y accede al tercer elemento del array que es 30 (la indexación arranca en el indice 0)."
      ],
      "metadata": {
        "id": "mqnlNFR8D1Lf"
      }
    },
    {
      "cell_type": "markdown",
      "source": [
        "\n",
        "### 2.   Slicing\n",
        "\n"
      ],
      "metadata": {
        "id": "qF2VD3hwEuFN"
      }
    },
    {
      "cell_type": "code",
      "source": [
        "arr = np.array([10, 20, 30, 40, 50])\n",
        "print(arr[1:4])"
      ],
      "metadata": {
        "colab": {
          "base_uri": "https://localhost:8080/"
        },
        "id": "KRl_GLqxE93G",
        "outputId": "62f2f74c-1154-4ccb-f25c-9e6f8cf2e394"
      },
      "execution_count": 2,
      "outputs": [
        {
          "output_type": "stream",
          "name": "stdout",
          "text": [
            "[20 30 40]\n"
          ]
        }
      ]
    },
    {
      "cell_type": "markdown",
      "source": [
        "En este ejemplo se puede observar cómo acceder a una porción de un array unidimensional usando slicing. Se utiliza `arr[1:4]` para obtener los elementos desde el índice 1 hasta el 3 (recordando que el índice final no se incluye). En este caso, se accede a los elementos 20, 30 y 40 del array original."
      ],
      "metadata": {
        "id": "n4kkt7QnFQyn"
      }
    },
    {
      "cell_type": "markdown",
      "source": [
        "\n",
        "### 3.   Indexing 2D Arrays\n",
        "\n"
      ],
      "metadata": {
        "id": "p366iNJAF8FD"
      }
    },
    {
      "cell_type": "code",
      "source": [
        "arr = np.array([[1, 2, 3], [4, 5, 6], [7, 8, 9]])\n",
        "print(arr[1, 2])"
      ],
      "metadata": {
        "colab": {
          "base_uri": "https://localhost:8080/"
        },
        "id": "yCKWp5NgGVgC",
        "outputId": "3e97831e-551a-4aa5-da87-abbc54a07efc"
      },
      "execution_count": 3,
      "outputs": [
        {
          "output_type": "stream",
          "name": "stdout",
          "text": [
            "6\n"
          ]
        }
      ]
    },
    {
      "cell_type": "markdown",
      "source": [
        "En este ejemplo se puede observar cómo acceder a un elemento específico dentro de un array bidimensional usando dos índices: `arr[1, 2]`. El primer índice (1) selecciona la segunda fila, y el segundo índice (2) selecciona el tercer elemento de esa fila. Por lo tanto, accede al número 6."
      ],
      "metadata": {
        "id": "cKvGPPt8GdwG"
      }
    },
    {
      "cell_type": "markdown",
      "source": [
        "\n",
        "\n",
        "### 4.   Slicing 2D Arrays\n",
        "\n",
        "\n"
      ],
      "metadata": {
        "id": "uuR9D3PjGoUQ"
      }
    },
    {
      "cell_type": "code",
      "source": [
        "arr = np.array([[1, 2, 3], [4, 5, 6], [7, 8, 9]])\n",
        "print(arr[:2, 1:])"
      ],
      "metadata": {
        "colab": {
          "base_uri": "https://localhost:8080/"
        },
        "id": "YoLA55stG7P4",
        "outputId": "3733b8f6-1d2d-45a4-a3da-75c00e01fd1b"
      },
      "execution_count": 4,
      "outputs": [
        {
          "output_type": "stream",
          "name": "stdout",
          "text": [
            "[[2 3]\n",
            " [5 6]]\n"
          ]
        }
      ]
    },
    {
      "cell_type": "markdown",
      "source": [
        "En este ejemplo se puede observar cómo utilizar slicing en un array bidimensional para extraer una submatriz. La expresión `arr[:2, 1:]` indica que se seleccionan las primeras dos filas `(:2)` y, dentro de esas filas, las columnas desde el índice 1 en adelante `(1:)`."
      ],
      "metadata": {
        "id": "ALJ5sQQsHF-m"
      }
    },
    {
      "cell_type": "markdown",
      "source": [
        "\n",
        "\n",
        "### 5.   3D Tensor Indexing\n",
        "\n"
      ],
      "metadata": {
        "id": "KC6_yal9H6xH"
      }
    },
    {
      "cell_type": "code",
      "source": [
        "tensor = np.array([[[1, 2, 3], [4, 5, 6]],\n",
        "[[7, 8, 9], [10, 11, 12]],\n",
        "[[13, 14, 15], [16, 17, 18]]])\n",
        "\n",
        "# Access specific elements\n",
        "print(tensor[1, 0, 2])\n",
        "# Access an entire \"slice\" (2D submatrix)\n",
        "print(tensor[1])"
      ],
      "metadata": {
        "colab": {
          "base_uri": "https://localhost:8080/"
        },
        "id": "D1FCS4K4IMZD",
        "outputId": "a50bdd83-6e96-4445-8b24-699383afd91a"
      },
      "execution_count": 5,
      "outputs": [
        {
          "output_type": "stream",
          "name": "stdout",
          "text": [
            "9\n",
            "[[ 7  8  9]\n",
            " [10 11 12]]\n"
          ]
        }
      ]
    },
    {
      "cell_type": "markdown",
      "source": [
        "En este ejemplo se puede observar cómo acceder a elementos y submatrices en un array tridimensional (tensor). La expresión `tensor[1, 0, 2]` permite acceder al elemento ubicado en la segunda \"capa\" (índice 1), primera fila (índice 0) y tercer elemento (índice 2), que es el valor 9. Por otro lado, `tensor[1]` accede a toda la segunda capa del tensor, devolviendo la submatriz bidimensional `[[7, 8, 9], [10, 11, 12]].`\n",
        "\n",
        "\n",
        "\n",
        "\n",
        "\n",
        "\n",
        "\n"
      ],
      "metadata": {
        "id": "Ml_c2P0DJBuy"
      }
    },
    {
      "cell_type": "markdown",
      "source": [
        "\n",
        "\n",
        "### 6.   Slicing a 3D Tensor\n",
        "\n"
      ],
      "metadata": {
        "id": "hgbFYWsdJQYU"
      }
    },
    {
      "cell_type": "code",
      "source": [
        "tensor = np.arange(27).reshape(3, 3, 3)\n",
        "# Slice along the first dimension\n",
        "print(tensor[1])\n",
        "# Slice along the second dimension\n",
        "print(tensor[:, 1, :])\n",
        "# Slice along the third dimension\n",
        "print(tensor[:, :, 2])"
      ],
      "metadata": {
        "colab": {
          "base_uri": "https://localhost:8080/"
        },
        "id": "Q2nK5YA3JZoo",
        "outputId": "3d6d7105-b3be-4298-f0d2-b3e8ee86dea7"
      },
      "execution_count": 6,
      "outputs": [
        {
          "output_type": "stream",
          "name": "stdout",
          "text": [
            "[[ 9 10 11]\n",
            " [12 13 14]\n",
            " [15 16 17]]\n",
            "[[ 3  4  5]\n",
            " [12 13 14]\n",
            " [21 22 23]]\n",
            "[[ 2  5  8]\n",
            " [11 14 17]\n",
            " [20 23 26]]\n"
          ]
        }
      ]
    },
    {
      "cell_type": "markdown",
      "source": [
        "En este ejemplo se puede observar cómo realizar slicing a lo largo de distintas dimensiones en un array tridimensional. Primero, `tensor[1]` accede a la segunda \"capa\" (índice 1), devolviendo una submatriz de 3x3. Luego, `tensor[:, 1, :]` selecciona la segunda fila (índice 1) de cada una de las tres capas, formando otra submatriz 3x3. Por último, `tensor[:, :, 2]` accede al tercer elemento (índice 2) de cada fila en cada capa, resultando también en una submatriz 3x3."
      ],
      "metadata": {
        "id": "1A9gPJ06JmO4"
      }
    },
    {
      "cell_type": "markdown",
      "source": [
        "\n",
        "\n",
        "### 7.   4D Tensor Indexing\n",
        "\n"
      ],
      "metadata": {
        "id": "d7NXSqEtKEUQ"
      }
    },
    {
      "cell_type": "code",
      "source": [
        "tensor = np.arange(48).reshape(2, 3, 2, 4)\n",
        "# Access specific elements\n",
        "print(tensor[1, 2, 0, 3])\n",
        "# Access a whole \"block\" (3D sub-tensor)\n",
        "print(tensor[1, 2])"
      ],
      "metadata": {
        "colab": {
          "base_uri": "https://localhost:8080/"
        },
        "id": "2gbnarOBKNyC",
        "outputId": "1b53880f-7d54-40f7-f639-a5b39191ed32"
      },
      "execution_count": 7,
      "outputs": [
        {
          "output_type": "stream",
          "name": "stdout",
          "text": [
            "43\n",
            "[[40 41 42 43]\n",
            " [44 45 46 47]]\n"
          ]
        }
      ]
    },
    {
      "cell_type": "markdown",
      "source": [
        "En este ejemplo se puede observar cómo acceder a elementos y bloques en un array de cuatro dimensiones. La expresión `tensor[1, 2, 0, 3]` accede al valor ubicado en la segunda agrupación (índice 1), tercera subagrupación (índice 2), primera fila (índice 0) y cuarta columna (índice 3), cuyo valor es 43. Por otro lado, `tensor[1, 2]` accede a un bloque tridimensional completo correspondiente a esa posición inicial, devolviendo un sub-tensor de forma 2x4 (dos filas con cuatro elementos cada una)."
      ],
      "metadata": {
        "id": "MyG4QkEuKptH"
      }
    },
    {
      "cell_type": "markdown",
      "source": [
        "\n",
        "\n",
        "### 8.   Slicing a 4D Tensor\n",
        "\n"
      ],
      "metadata": {
        "id": "qTC_iByRK9JC"
      }
    },
    {
      "cell_type": "code",
      "source": [
        "tensor = np.arange(48).reshape(2, 3, 2, 4)\n",
        "# Slice along the first dimension\n",
        "print(tensor[1])\n",
        "# Slice along the second dimension\n",
        "print(tensor[:, 2, :, :])\n",
        "# Slice along the third dimension\n",
        "print(tensor[:, :, 0, :])"
      ],
      "metadata": {
        "colab": {
          "base_uri": "https://localhost:8080/"
        },
        "id": "NGqlf3_9LQ_e",
        "outputId": "437996b2-c708-493c-f583-b36ad3fe43c2"
      },
      "execution_count": 8,
      "outputs": [
        {
          "output_type": "stream",
          "name": "stdout",
          "text": [
            "[[[24 25 26 27]\n",
            "  [28 29 30 31]]\n",
            "\n",
            " [[32 33 34 35]\n",
            "  [36 37 38 39]]\n",
            "\n",
            " [[40 41 42 43]\n",
            "  [44 45 46 47]]]\n",
            "[[[16 17 18 19]\n",
            "  [20 21 22 23]]\n",
            "\n",
            " [[40 41 42 43]\n",
            "  [44 45 46 47]]]\n",
            "[[[ 0  1  2  3]\n",
            "  [ 8  9 10 11]\n",
            "  [16 17 18 19]]\n",
            "\n",
            " [[24 25 26 27]\n",
            "  [32 33 34 35]\n",
            "  [40 41 42 43]]]\n"
          ]
        }
      ]
    },
    {
      "cell_type": "markdown",
      "source": [
        "En este ejemplo se puede observar cómo realizar slicing en diferentes dimensiones de un array de cuatro dimensiones. La expresión `tensor[1]` accede a la segunda agrupación principal (índice 1), devolviendo un sub-tensor de forma 3x2x4. Luego, `tensor[:, 2, :, :]` selecciona la tercera subagrupación (índice 2) en todas las agrupaciones principales, resultando en un sub-tensor de forma 2x2x4. Finalmente, `tensor[:, :, 0, :]` accede a la primera fila interna (índice 0) de cada subagrupación, generando un sub-tensor de forma 2x3x4."
      ],
      "metadata": {
        "id": "Q2JRrOdxLeah"
      }
    },
    {
      "cell_type": "markdown",
      "source": [
        "\n",
        "\n",
        "### 9.   Matrix Addition\n",
        "\n"
      ],
      "metadata": {
        "id": "-bXmNBPzMECC"
      }
    },
    {
      "cell_type": "code",
      "source": [
        "A = np.array([[1, 2], [3, 4]])\n",
        "B = np.array([[5, 6], [7, 8]])\n",
        "result = A + B\n",
        "print(result)"
      ],
      "metadata": {
        "colab": {
          "base_uri": "https://localhost:8080/"
        },
        "id": "qssX_-zNMI4G",
        "outputId": "cf8576fd-61e8-4531-9949-8977495d61dc"
      },
      "execution_count": 9,
      "outputs": [
        {
          "output_type": "stream",
          "name": "stdout",
          "text": [
            "[[ 6  8]\n",
            " [10 12]]\n"
          ]
        }
      ]
    },
    {
      "cell_type": "markdown",
      "source": [
        "En este ejemplo se puede observar cómo realizar una suma de matrices en NumPy. Se crean dos matrices `A` y `B`, y luego se suman elemento por elemento con la expresión `A + B`. El resultado es una nueva matriz, donde cada elemento es la suma de los elementos correspondientes de `A` y `B`."
      ],
      "metadata": {
        "id": "ChyiaRR9MeE_"
      }
    },
    {
      "cell_type": "markdown",
      "source": [
        "\n",
        "\n",
        "### 10.   Matrix Multiplication\n",
        "\n"
      ],
      "metadata": {
        "id": "IF-eSxczNzhN"
      }
    },
    {
      "cell_type": "code",
      "source": [
        "A = np.array([[1, 2], [3, 4]])\n",
        "B = np.array([[5, 6], [7, 8]])\n",
        "result = np.dot(A, B)\n",
        "print(result)"
      ],
      "metadata": {
        "colab": {
          "base_uri": "https://localhost:8080/"
        },
        "id": "bFuqfH1sOAhJ",
        "outputId": "8c1d9601-167b-41e6-bd79-2a773540f726"
      },
      "execution_count": 10,
      "outputs": [
        {
          "output_type": "stream",
          "name": "stdout",
          "text": [
            "[[19 22]\n",
            " [43 50]]\n"
          ]
        }
      ]
    },
    {
      "cell_type": "markdown",
      "source": [
        "En este ejemplo se puede observar cómo realizar el producto matricial utilizando la función `np.dot()`. Al aplicar `np.dot(A, B)`, se realiza el producto de las matrices `A` y `B`, lo cual es una operación diferente a la suma de matrices. El resultado es una nueva matriz donde cada elemento es el resultado de la multiplicación de filas de `A` por las columnas de `B`."
      ],
      "metadata": {
        "id": "LMYc9f0kOD_9"
      }
    },
    {
      "cell_type": "markdown",
      "source": [
        "\n",
        "\n",
        "### 11.   Transpose of a Matrix\n",
        "\n"
      ],
      "metadata": {
        "id": "ye5PDn4BOQ_k"
      }
    },
    {
      "cell_type": "code",
      "source": [
        "A = np.array([[1, 2], [3, 4]])\n",
        "result = np.transpose(A)\n",
        "print(result)"
      ],
      "metadata": {
        "colab": {
          "base_uri": "https://localhost:8080/"
        },
        "id": "PkKs4-n7OY5p",
        "outputId": "26b63a51-7f2f-4abc-a345-d31275c58313"
      },
      "execution_count": 11,
      "outputs": [
        {
          "output_type": "stream",
          "name": "stdout",
          "text": [
            "[[1 3]\n",
            " [2 4]]\n"
          ]
        }
      ]
    },
    {
      "cell_type": "markdown",
      "source": [
        "En este ejemplo se puede observar cómo realizar la transposición de una matriz utilizando la función `np.transpose()`. La transposición de una matriz consiste en intercambiar sus filas por columnas. Al aplicar `np.transpose(A)`, se obtiene una nueva matriz donde las filas de `A` se convierten en columnas."
      ],
      "metadata": {
        "id": "p_A7SAu4Oe-s"
      }
    },
    {
      "cell_type": "markdown",
      "source": [
        "\n",
        "\n",
        "### 12.   Matrix Determinant and Inverse\n",
        "\n"
      ],
      "metadata": {
        "id": "umop03iuOoRh"
      }
    },
    {
      "cell_type": "code",
      "source": [
        "A = np.array([[1, 2], [3, 4]])\n",
        "det = np.linalg.det(A)\n",
        "inverse = np.linalg.inv(A)\n",
        "print(\"Determinant:\", det)\n",
        "print(\"Inverse:\\n\", inverse)"
      ],
      "metadata": {
        "colab": {
          "base_uri": "https://localhost:8080/"
        },
        "id": "e-BhcKmwOzl9",
        "outputId": "a529918e-909c-4e43-8c9f-101eef7e2ae0"
      },
      "execution_count": 12,
      "outputs": [
        {
          "output_type": "stream",
          "name": "stdout",
          "text": [
            "Determinant: -2.0000000000000004\n",
            "Inverse:\n",
            " [[-2.   1. ]\n",
            " [ 1.5 -0.5]]\n"
          ]
        }
      ]
    },
    {
      "cell_type": "markdown",
      "source": [
        "En este ejemplo se puede observar cómo calcular el determinante y la inversa de una matriz utilizando funciones de np.linalg. Primero, `np.linalg.det(A)` calcula el determinante de la matriz `A`, que es un valor escalar que describe ciertas propiedades de la matriz (en este caso, es -2). Luego, `np.linalg.inv(A)` calcula la matriz inversa de `A`, que es la matriz que, multiplicada por `A`, da como resultado la matriz identidad."
      ],
      "metadata": {
        "id": "ci6GJKN2O3GZ"
      }
    },
    {
      "cell_type": "markdown",
      "source": [
        "\n",
        "\n",
        "### 13.   Eigenvalues and Eigenvectors\n",
        "\n"
      ],
      "metadata": {
        "id": "jl_YjX47PD8a"
      }
    },
    {
      "cell_type": "code",
      "source": [
        "A = np.array([[1, -1], [1, 3]])\n",
        "eigenvalues, eigenvectors = np.linalg.eig(A)\n",
        "print(\"Eigenvalues:\", eigenvalues)\n",
        "print(\"Eigenvectors:\\n\", eigenvectors)"
      ],
      "metadata": {
        "colab": {
          "base_uri": "https://localhost:8080/"
        },
        "id": "A18Qv_rDPP9L",
        "outputId": "a3bee5be-dd99-44be-8384-c6c660383294"
      },
      "execution_count": 13,
      "outputs": [
        {
          "output_type": "stream",
          "name": "stdout",
          "text": [
            "Eigenvalues: [2.00000002 1.99999998]\n",
            "Eigenvectors:\n",
            " [[-0.70710677 -0.70710679]\n",
            " [ 0.70710679  0.70710677]]\n"
          ]
        }
      ]
    },
    {
      "cell_type": "markdown",
      "source": [
        "En este ejemplo se puede observar cómo calcular los autovalores (eigenvalues) y los autovectores (eigenvectors) de una matriz utilizando `np.linalg.eig()`. La función devuelve dos resultados: los autovalores, que son los valores escalares asociados a la matriz, y los autovectores, que son los vectores asociados a esos autovalores."
      ],
      "metadata": {
        "id": "RmK7x1ERPRE5"
      }
    },
    {
      "cell_type": "markdown",
      "source": [
        "\n",
        "\n",
        "### 14.   Solving Linear Equations\n",
        "\n"
      ],
      "metadata": {
        "id": "5fAwReXJPfL8"
      }
    },
    {
      "cell_type": "code",
      "source": [
        "A = np.array([[2, 1], [1, 1]])\n",
        "b = np.array([3, 2])\n",
        "solution = np.linalg.solve(A, b)\n",
        "print(\"Solution:\", solution)"
      ],
      "metadata": {
        "colab": {
          "base_uri": "https://localhost:8080/"
        },
        "id": "-5JkwxyRPm1M",
        "outputId": "aeb0f7f4-75f7-4075-bc3b-3355a5990f04"
      },
      "execution_count": 14,
      "outputs": [
        {
          "output_type": "stream",
          "name": "stdout",
          "text": [
            "Solution: [1. 1.]\n"
          ]
        }
      ]
    },
    {
      "cell_type": "markdown",
      "source": [
        "En este ejemplo se puede observar cómo resolver un sistema de ecuaciones lineales utilizando `np.linalg.solve()`. La función `np.linalg.solve(A, b)` resuelve el sistema de ecuaciones de la forma `Ax = b`, donde `A` es la matriz de coeficientes y `b` es el vector de términos independientes."
      ],
      "metadata": {
        "id": "kTfV0HRbPuqd"
      }
    },
    {
      "cell_type": "markdown",
      "source": [
        "\n",
        "\n",
        "### 15.   Gradient descent optimization\n",
        "\n"
      ],
      "metadata": {
        "id": "XS7vUqgkP8pe"
      }
    },
    {
      "cell_type": "code",
      "source": [
        "# Generate some sample data\n",
        "np.random.seed(0)\n",
        "X = 2 * np.random.rand(100, 1)\n",
        "y = 4 + 3 * X + np.random.randn(100, 1)\n",
        "# Add bias term to X\n",
        "X_b = np.c_[np.ones((100, 1)), X]\n",
        "# Hyperparameters\n",
        "learning_rate = 0.1\n",
        "n_iterations = 1000\n",
        "# Initialize the parameters\n",
        "theta = np.random.randn(2, 1)\n",
        "# Gradient Descent\n",
        "for iteration in range(n_iterations):\n",
        "  gradients = 2 / 100 * X_b.T.dot(X_b.dot(theta) - y)\n",
        "  theta = theta - learning_rate * gradients\n",
        "\n",
        "print(\"Final theta:\", theta)"
      ],
      "metadata": {
        "colab": {
          "base_uri": "https://localhost:8080/"
        },
        "id": "xpYsKWvSQPCD",
        "outputId": "984f391d-0466-43bd-8b86-e52b23b415ef"
      },
      "execution_count": 16,
      "outputs": [
        {
          "output_type": "stream",
          "name": "stdout",
          "text": [
            "Final theta: [[4.22215108]\n",
            " [2.96846751]]\n"
          ]
        }
      ]
    },
    {
      "cell_type": "markdown",
      "source": [
        "En este ejemplo se puede observar cómo implementar el algoritmo de descenso por gradiente para resolver un problema de regresión lineal. Primero, se genera un conjunto de datos sintético con una relación lineal entre `X` e `y`, y se añade un término de sesgo (`X_b`) para incluir el intercepto en el modelo. Luego, se inicializan los parámetros (`theta`) de forma aleatoria y se optimizan iterativamente usando el descenso por gradiente. En cada iteración, se calcula el gradiente del error cuadrático medio respecto a `theta`, y se actualizan los parámetros restando una fracción del gradiente (definida por la tasa de aprendizaje). El resultado final (`theta`) contiene los valores ajustados del modelo lineal."
      ],
      "metadata": {
        "id": "g5MYLDX4QfNP"
      }
    },
    {
      "cell_type": "markdown",
      "source": [
        "\n",
        "## 2.   Examples: Python functions and classes\n",
        "\n"
      ],
      "metadata": {
        "id": "5a64K4LBR4gn"
      }
    },
    {
      "cell_type": "markdown",
      "source": [
        "\n",
        "\n",
        "### 1.   Simple Function\n"
      ],
      "metadata": {
        "id": "2TUrztLRSJYx"
      }
    },
    {
      "cell_type": "code",
      "source": [
        "def greet(name):\n",
        "  return \"Hello, \" + name + \"!\"\n",
        "print(greet(\"Ana\")) # Output: Hello, Ana!"
      ],
      "metadata": {
        "colab": {
          "base_uri": "https://localhost:8080/"
        },
        "id": "17ORSyhhtNgg",
        "outputId": "01ca41c5-550f-4279-b56c-7ac1913b65a7"
      },
      "execution_count": 5,
      "outputs": [
        {
          "output_type": "stream",
          "name": "stdout",
          "text": [
            "Hello, Ana!\n"
          ]
        }
      ]
    },
    {
      "cell_type": "markdown",
      "source": [
        "En este ejemplo se puede observar cómo definir una función en Python que recibe un parámetro y devuelve un saludo personalizado. La función `greet(name)` toma un argumento `name` y retorna la cadena `\"Hello, \" + name + \"!\"`. Al llamar a `greet(\"Ana\")`, la función concatena el nombre con el saludo, devolviendo como resultado: `Hello, Ana!`."
      ],
      "metadata": {
        "id": "LkyWcH1AtSoI"
      }
    },
    {
      "cell_type": "markdown",
      "source": [
        "\n",
        "### 2.   Function with Parameters and Return\n",
        "\n"
      ],
      "metadata": {
        "id": "JeVqENqft5O4"
      }
    },
    {
      "cell_type": "code",
      "source": [
        "def add_numbers(a, b):\n",
        "  sum = a + b\n",
        "  return sum\n",
        "result = add_numbers(5, 7)\n",
        "print(result)"
      ],
      "metadata": {
        "colab": {
          "base_uri": "https://localhost:8080/"
        },
        "id": "s1mU0BnxuA0y",
        "outputId": "18f91358-c359-4fb6-a01b-d40a15dcf6a7"
      },
      "execution_count": 4,
      "outputs": [
        {
          "output_type": "stream",
          "name": "stdout",
          "text": [
            "12\n"
          ]
        }
      ]
    },
    {
      "cell_type": "markdown",
      "source": [
        "En este ejemplo se puede observar cómo definir una función que recibe dos argumentos y devuelve su suma. La función `add_numbers(a, b)` toma los valores `a` y `b`, calcula su suma y la almacena en la variable `sum`, la cual es retornada. Al llamar a `add_numbers(5, 7)`, se obtiene como resultado `12`."
      ],
      "metadata": {
        "id": "mFoa4SLouLR0"
      }
    },
    {
      "cell_type": "markdown",
      "source": [
        "\n",
        "### 3.   Function with Default Parameter\n",
        "\n"
      ],
      "metadata": {
        "id": "n7TkjfAnukSc"
      }
    },
    {
      "cell_type": "code",
      "source": [
        "def power(base, exponent=2):\n",
        "  return base ** exponent\n",
        "print(power(3))\n",
        "print(power(2, 3))"
      ],
      "metadata": {
        "colab": {
          "base_uri": "https://localhost:8080/"
        },
        "id": "-L6jzeqNuub1",
        "outputId": "2cbbcef9-b5b5-4034-fc49-5dd61c144164"
      },
      "execution_count": 6,
      "outputs": [
        {
          "output_type": "stream",
          "name": "stdout",
          "text": [
            "9\n",
            "8\n"
          ]
        }
      ]
    },
    {
      "cell_type": "markdown",
      "source": [
        "En este ejemplo se puede observar cómo definir una función con un parámetro por defecto. La función `power(base, exponent=2)` calcula la potencia de un número, elevando `base` a `exponent`. Si no se especifica el valor del exponente, se usa el valor por defecto de 2."
      ],
      "metadata": {
        "id": "QRiQvOIWu-4t"
      }
    },
    {
      "cell_type": "markdown",
      "source": [
        "\n",
        "### 4.   Function with Multiple Returns\n"
      ],
      "metadata": {
        "id": "j2d_sR3EvJg0"
      }
    },
    {
      "cell_type": "code",
      "source": [
        "def min_max(numbers):\n",
        "  return min(numbers), max(numbers)\n",
        "nums = [4, 9, 2, 7, 5]\n",
        "minimum, maximum = min_max(nums)\n",
        "print(minimum, maximum) # Output: 2 9"
      ],
      "metadata": {
        "colab": {
          "base_uri": "https://localhost:8080/"
        },
        "id": "Lof-r-8kvTpW",
        "outputId": "9bb196b0-8527-4145-b741-44576ee35950"
      },
      "execution_count": 7,
      "outputs": [
        {
          "output_type": "stream",
          "name": "stdout",
          "text": [
            "2 9\n"
          ]
        }
      ]
    },
    {
      "cell_type": "markdown",
      "source": [
        "En este ejemplo se puede observar cómo una función puede retornar múltiples valores en forma de tupla. La función `min_max(numbers)` recibe una lista de números y devuelve el valor mínimo y máximo usando las funciones incorporadas `min()` y `max()`. Al llamar a `min_max(nums)`, se obtiene la tupla `(2, 9)`, que luego se desempaqueta en las variables `minimum` y `maximum`."
      ],
      "metadata": {
        "id": "QfrA373SvX3L"
      }
    },
    {
      "cell_type": "markdown",
      "source": [
        "\n",
        "### 5.   Function with Docstring"
      ],
      "metadata": {
        "id": "cYgn1emov066"
      }
    },
    {
      "cell_type": "code",
      "source": [
        "def area_of_rectangle(length, width):\n",
        "    \"\"\"\n",
        "    Calculates the area of a rectangle.\n",
        "\n",
        "    Args:\n",
        "        length (float): The length of the rectangle.\n",
        "        width (float): The width of the rectangle.\n",
        "\n",
        "    Returns:\n",
        "        float: The area of the rectangle.\n",
        "    \"\"\"\n",
        "    return length * width"
      ],
      "metadata": {
        "id": "4AmCI121v7gK"
      },
      "execution_count": 11,
      "outputs": []
    },
    {
      "cell_type": "markdown",
      "source": [
        "En este ejemplo se puede observar cómo definir una función con documentación interna (docstring) que explica su propósito, argumentos y valor de retorno. La función `area_of_rectangle(length, width)` calcula el área de un rectángulo multiplicando su longitud por su ancho, y devuelve el resultado. El docstring facilita la comprensión del uso correcto de la función por parte de otros desarrolladores o del propio usuario."
      ],
      "metadata": {
        "id": "hdQfkm_owfQo"
      }
    },
    {
      "cell_type": "markdown",
      "source": [
        "\n",
        "### 6.   Creating a Simple Class\n",
        "\n"
      ],
      "metadata": {
        "id": "Mmkza8Guwmbr"
      }
    },
    {
      "cell_type": "code",
      "source": [
        "class Dog:\n",
        "    def __init__(self, name, age):\n",
        "        self.name = name\n",
        "        self.age = age\n",
        "\n",
        "    def bark(self):\n",
        "        print(f\"{self.name} is barking!\")\n",
        "\n",
        "# Create an instance of the Dog class\n",
        "dog1 = Dog(\"Buddy\", 3)\n",
        "dog1.bark()"
      ],
      "metadata": {
        "colab": {
          "base_uri": "https://localhost:8080/"
        },
        "id": "t7CNGhzWwtK_",
        "outputId": "fe3cda60-f9fb-4371-cd4c-e1bd3c704396"
      },
      "execution_count": 12,
      "outputs": [
        {
          "output_type": "stream",
          "name": "stdout",
          "text": [
            "Buddy is barking!\n"
          ]
        }
      ]
    },
    {
      "cell_type": "markdown",
      "source": [
        "En este ejemplo se puede observar cómo definir una clase en Python y crear una instancia de ella. La clase `Dog` tiene un método especial `__init__` que inicializa los atributos `name` y `age` cuando se crea un objeto. También tiene un método `bark()` que imprime un mensaje utilizando el nombre del perro. Al crear la instancia `dog1 = Dog(\"Buddy\", 3)` y llamar a `dog1.bark()`, se imprime: `Buddy is barking!`."
      ],
      "metadata": {
        "id": "dhHn6Cviw0Zu"
      }
    },
    {
      "cell_type": "markdown",
      "source": [
        "\n",
        "### 7.   Adding Methods and Attributes\n",
        "\n"
      ],
      "metadata": {
        "id": "WB6C_mIjxGcY"
      }
    },
    {
      "cell_type": "code",
      "source": [
        "class Student:\n",
        "    def __init__(self, name, age):\n",
        "        self.name = name\n",
        "        self.age = age\n",
        "        self.grades = []\n",
        "\n",
        "    def add_grade(self, grade):\n",
        "        self.grades.append(grade)\n",
        "\n",
        "    def get_average_grade(self):\n",
        "        return sum(self.grades) / len(self.grades)\n",
        "\n",
        "# Create a Student instance and add grades\n",
        "student1 = Student(\"Alice\", 18)\n",
        "student1.add_grade(85)\n",
        "student1.add_grade(92)\n",
        "average_grade = student1.get_average_grade()\n",
        "print(f\"{student1.name}'s average grade: {average_grade}\")"
      ],
      "metadata": {
        "colab": {
          "base_uri": "https://localhost:8080/"
        },
        "id": "O_cHZl2vxO2I",
        "outputId": "1dd609d1-7f1b-4e01-d249-c39f1d7070d1"
      },
      "execution_count": 13,
      "outputs": [
        {
          "output_type": "stream",
          "name": "stdout",
          "text": [
            "Alice's average grade: 88.5\n"
          ]
        }
      ]
    },
    {
      "cell_type": "markdown",
      "source": [
        "En este ejemplo se puede observar cómo definir una clase con atributos y métodos para manejar información relacionada a un estudiante. La clase `Student` inicializa con `name`, `age` y una lista vacía de `grades`. El método `add_grade()` permite agregar calificaciones a la lista, y `get_average_grade()` calcula el promedio de dichas calificaciones. Al crear una instancia `student1`, agregarle dos notas y luego llamar al método para obtener el promedio, se imprime: `Alice's average grade: 88.5`."
      ],
      "metadata": {
        "id": "0FpzK6lsxWjC"
      }
    },
    {
      "cell_type": "markdown",
      "source": [
        "\n",
        "### 8.   Inheritance\n",
        "\n"
      ],
      "metadata": {
        "id": "7bZd1Eekxpsc"
      }
    },
    {
      "cell_type": "code",
      "source": [
        "class Animal:\n",
        "    def __init__(self, name):\n",
        "        self.name = name\n",
        "\n",
        "    def speak(self):\n",
        "        pass  # Placeholder for subclasses to override\n",
        "\n",
        "class Cat(Animal):\n",
        "    def speak(self):\n",
        "        print(f\"{self.name} says Meow!\")\n",
        "\n",
        "class Dog(Animal):\n",
        "    def speak(self):\n",
        "        print(f\"{self.name} says Woof!\")\n",
        "\n",
        "# Create instances of Cat and Dog\n",
        "cat = Cat(\"Whiskers\")\n",
        "dog = Dog(\"Buddy\")\n",
        "\n",
        "cat.speak()\n",
        "dog.speak()"
      ],
      "metadata": {
        "colab": {
          "base_uri": "https://localhost:8080/"
        },
        "id": "VmhvSGSLxxL_",
        "outputId": "85d0bfe4-fbb7-46fa-c735-f0c657ec2c97"
      },
      "execution_count": 14,
      "outputs": [
        {
          "output_type": "stream",
          "name": "stdout",
          "text": [
            "Whiskers says Meow!\n",
            "Buddy says Woof!\n"
          ]
        }
      ]
    },
    {
      "cell_type": "markdown",
      "source": [
        "En este ejemplo se puede observar el uso de herencia y polimorfismo en programación orientada a objetos. La clase base `Animal` define un método `speak()` como marcador para que las subclases lo sobreescriban. Las clases `Cat` y `Dog` heredan de `Animal` y redefinen el método `speak()` para emitir sonidos específicos. Al crear las instancias `cat` y `dog` y llamar a sus métodos `speak()`, cada una ejecuta su propia versión, imprimiendo: `Whiskers says Meow!` y `Buddy says Woof!`, respectivamente."
      ],
      "metadata": {
        "id": "ELrxL9dQx7ca"
      }
    },
    {
      "cell_type": "markdown",
      "source": [
        "\n",
        "## 3.   Exercises\n",
        "\n"
      ],
      "metadata": {
        "id": "Oofy5ylb5DNi"
      }
    },
    {
      "cell_type": "markdown",
      "source": [
        "\n",
        "\n",
        "### 1.   Indexing Arrays in NumPy\n",
        "\n",
        "1.   Given the NumPy array `arr = np.array([3, 7, 1, 9, 5])`, perform\n",
        "the following indexing operations:\n",
        "\n",
        "\n",
        "*   Retrieve the third element of the array.\n",
        "*   Slice the array to get elements from index 1 to index 3.\n",
        "*   Change the value of the fourth element to 12.\n",
        "\n",
        "\n"
      ],
      "metadata": {
        "id": "qZh4zAUs5P_O"
      }
    },
    {
      "cell_type": "code",
      "source": [
        "import numpy as np\n",
        "\n",
        "# Crear el array\n",
        "arr = np.array([3, 7, 1, 9, 5])\n",
        "\n",
        "# a) Recuperar el tercer elemento del array (índice 2)\n",
        "tercerelemento = arr[2]\n",
        "print(f\"Tercer elemento: {tercerelemento}\")\n",
        "\n",
        "# b) Cortar el array para obtener los elementos desde el índice 1 hasta el índice 3\n",
        "fragmento = arr[1:4]\n",
        "print(f\"Elementos del índice 1 al 3: {fragmento}\")\n",
        "\n",
        "# c) Cambiar el valor del cuarto elemento (índice 3) a 12\n",
        "arr[3] = 12\n",
        "print(f\"Array actualizado: {arr}\")"
      ],
      "metadata": {
        "colab": {
          "base_uri": "https://localhost:8080/"
        },
        "id": "kBwuqXeJ6JRc",
        "outputId": "e4933799-5282-41a8-cfc9-72f62a134ee7"
      },
      "execution_count": 17,
      "outputs": [
        {
          "output_type": "stream",
          "name": "stdout",
          "text": [
            "Tercer elemento: 1\n",
            "Elementos del índice 1 al 3: [7 1 9]\n",
            "Array actualizado: [ 3  7  1 12  5]\n"
          ]
        }
      ]
    },
    {
      "cell_type": "markdown",
      "source": [
        "2.   Create a 2D NumPy array matrix with the following values:\n",
        "\n",
        "![image.png](data:image/png;base64,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)\n",
        "\n",
        "*   Retrieve the element in the second row and third column.\n",
        "*   Slice the matrix to get the submatrix consisting of the first two rows\n",
        "and all columns.\n"
      ],
      "metadata": {
        "id": "bkUjhcag6tVb"
      }
    },
    {
      "cell_type": "code",
      "source": [
        "\n",
        "# Crear la matriz 2D\n",
        "matrix = np.array([\n",
        "    [1, 2, 3],\n",
        "    [4, 5, 6],\n",
        "    [7, 8, 9]\n",
        "])\n",
        "\n",
        "# a) Obtener el valor de la segunda fila y tercera columna\n",
        "element = matrix[1][2]\n",
        "print(\"a) Elemento [2ª fila, 3ª columna]:\", element)\n",
        "print()\n",
        "\n",
        "# b) Extraer una submatriz con las dos primeras filas y todas las columnas\n",
        "submatrix = matrix[:2, :]\n",
        "print(\"b) Submatriz (2 primeras filas, todas las columnas):\")\n",
        "print(submatrix)\n"
      ],
      "metadata": {
        "colab": {
          "base_uri": "https://localhost:8080/"
        },
        "id": "_QGKKszC_Ej5",
        "outputId": "c22d11fb-902c-48c8-83e3-64754b10fe51"
      },
      "execution_count": 19,
      "outputs": [
        {
          "output_type": "stream",
          "name": "stdout",
          "text": [
            "a) Elemento [2ª fila, 3ª columna]: 6\n",
            "\n",
            "b) Submatriz (2 primeras filas, todas las columnas):\n",
            "[[1 2 3]\n",
            " [4 5 6]]\n"
          ]
        }
      ]
    },
    {
      "cell_type": "markdown",
      "source": [
        "\n",
        "### 2.   Indexing and Slicing Higher-Dimensional Tensors"
      ],
      "metadata": {
        "id": "cgo1SM61ACDJ"
      }
    },
    {
      "cell_type": "markdown",
      "source": [
        "Consider the following 3D tensor representing a stack of matrices:\n",
        "\n",
        "![image.png](data:image/png;base64,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)\n",
        "\n",
        "*   Retrieve the element at the position (1, 0, 2) within the tensor.\n",
        "\n",
        "*   Slice the tensor to obtain the 3 × 4 sub-tensor that corresponds to the\n",
        "second “matrix” (slice) along the first dimension.\n",
        "\n",
        "*   Slice the tensor to obtain the 2×4 sub-tensor that corresponds to the last\n",
        "row of the last two “matrices.”\n",
        "\n",
        "*   Retrieve the element at the position (2, 1, 3) within the tensor.\n",
        "\n",
        "*   Retrieve the element at the position (2, 1, 3) within the tensor.\n",
        "\n",
        "*   Slice the tensor to obtain the 2×4 sub-tensor that corresponds to the first\n",
        "row of the las two “matrices.”\n",
        "\n",
        "Hint: Remember that in NumPy indexing, the first index corresponds to the\n",
        "outermost dimension, the second index corresponds to the next inner dimension,\n",
        "and so on.\n",
        "\n"
      ],
      "metadata": {
        "id": "ADimP-pyAooK"
      }
    },
    {
      "cell_type": "code",
      "source": [
        "\n",
        "# Definición del tensor 3D\n",
        "tensor = np.array([\n",
        "    [\n",
        "        [1, 2, 3, 4],\n",
        "        [5, 6, 7, 8],\n",
        "        [9, 10, 11, 12]\n",
        "    ],\n",
        "    [\n",
        "        [13, 14, 15, 16],\n",
        "        [17, 18, 19, 20],\n",
        "        [21, 22, 23, 24]\n",
        "    ],\n",
        "    [\n",
        "        [25, 26, 27, 28],\n",
        "        [29, 30, 31, 32],\n",
        "        [33, 34, 35, 36]\n",
        "    ]\n",
        "])\n",
        "\n",
        "# 1) Obtener el tercer elemento (índice 2) de la primera fila (índice 0) en la segunda matriz (índice 1)\n",
        "valor_1 = tensor[1, 0, 2]\n",
        "print(\"1) Elemento tensor[1, 0, 2]:\", valor_1)\n",
        "\n",
        "# 2) Mostrar toda la segunda matriz (índice 1)\n",
        "print(\"\\n2) Segunda matriz completa:\")\n",
        "print(tensor[1])\n",
        "\n",
        "# 3) Última fila (índice 2) de las matrices en las posiciones 1 y 2\n",
        "print(\"\\n3) Última fila de las matrices 1 y 2:\")\n",
        "print(tensor[1:, 2, :])\n",
        "\n",
        "# 4) Elemento en la tercera matriz (índice 2), segunda fila (índice 1), cuarta columna (índice 3)\n",
        "valor_4 = tensor[2, 1, 3]\n",
        "print(\"\\n4) Elemento tensor[2, 1, 3]:\", valor_4)\n",
        "\n",
        "# 5) Primera fila (índice 0) de las matrices 1 y 2\n",
        "print(\"\\n5) Primera fila de las matrices 1 y 2:\")\n",
        "print(tensor[1:, 0, :])\n"
      ],
      "metadata": {
        "colab": {
          "base_uri": "https://localhost:8080/"
        },
        "id": "gQqTGadcCQ8Q",
        "outputId": "8b1210b0-6938-44c4-d089-96deda7d25de"
      },
      "execution_count": 20,
      "outputs": [
        {
          "output_type": "stream",
          "name": "stdout",
          "text": [
            "1) Elemento tensor[1, 0, 2]: 15\n",
            "\n",
            "2) Segunda matriz completa:\n",
            "[[13 14 15 16]\n",
            " [17 18 19 20]\n",
            " [21 22 23 24]]\n",
            "\n",
            "3) Última fila de las matrices 1 y 2:\n",
            "[[21 22 23 24]\n",
            " [33 34 35 36]]\n",
            "\n",
            "4) Elemento tensor[2, 1, 3]: 32\n",
            "\n",
            "5) Primera fila de las matrices 1 y 2:\n",
            "[[13 14 15 16]\n",
            " [25 26 27 28]]\n"
          ]
        }
      ]
    },
    {
      "cell_type": "markdown",
      "source": [
        "\n",
        "### 3.   Defining Functions in Python\n",
        "\n"
      ],
      "metadata": {
        "id": "yeA4z6yMN5he"
      }
    },
    {
      "cell_type": "markdown",
      "source": [
        "*   Write a Python function calculate\n",
        "average that takes a list of numbers\n",
        "as input and returns the average of those numbers."
      ],
      "metadata": {
        "id": "LZC25S8rOSRA"
      }
    },
    {
      "cell_type": "code",
      "source": [
        "def calculate_average(numbers):\n",
        "    return sum(numbers) / len(numbers)\n",
        "\n",
        "# Ejemplo de uso:\n",
        "lista = [5, 100, 80, 30]\n",
        "promedio = calculate_average(lista)\n",
        "print(\"El promedio es:\", promedio)"
      ],
      "metadata": {
        "colab": {
          "base_uri": "https://localhost:8080/"
        },
        "id": "3ncVgrv7OdjW",
        "outputId": "f9c4b31e-ca58-4312-9daa-07fdd5108c7d"
      },
      "execution_count": 24,
      "outputs": [
        {
          "output_type": "stream",
          "name": "stdout",
          "text": [
            "El promedio es: 53.75\n"
          ]
        }
      ]
    },
    {
      "cell_type": "markdown",
      "source": [
        "*   Define a function find power that calculates the result of a number raised\n",
        "to a given exponent. The function should have two parameters: base (the\n",
        "base number) and exponent (default value should be 2)."
      ],
      "metadata": {
        "id": "rT2SvJzPOnRv"
      }
    },
    {
      "cell_type": "code",
      "source": [
        "def find_power(base, exponent=2):\n",
        "    return base ** exponent\n",
        "\n",
        "# Ejemplos de uso:\n",
        "print(\"5 al cuadrado es:\", find_power(5))\n",
        "print(\"2 a la potencia 3 es:\", find_power(2, 3))"
      ],
      "metadata": {
        "colab": {
          "base_uri": "https://localhost:8080/"
        },
        "id": "mzQseFf2O76F",
        "outputId": "219d1fa0-1f41-470f-9cd3-dd6244e4937a"
      },
      "execution_count": 25,
      "outputs": [
        {
          "output_type": "stream",
          "name": "stdout",
          "text": [
            "5 al cuadrado es: 25\n",
            "2 a la potencia 3 es: 8\n"
          ]
        }
      ]
    },
    {
      "cell_type": "markdown",
      "source": [
        "\n",
        "### 4.   Implementing Gradient Descent Optimization\n"
      ],
      "metadata": {
        "id": "oqs0dFDnPH2u"
      }
    },
    {
      "cell_type": "markdown",
      "source": [
        "*   Consider the linear regression problem where you have the following data\n",
        "points: Implement a Python program using NumPy to perform gradient descent\n",
        "optimization to find the parameters θ0 and θ1 for the linear regression\n",
        "model hθ(x) = θ0 + θ1x. Use a learning rate of 0.01 and iterate for 1000\n",
        "steps.\n",
        "\n",
        "![image.png](data:image/png;base64,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)"
      ],
      "metadata": {
        "id": "YLAR9UvuPP5j"
      }
    },
    {
      "cell_type": "markdown",
      "source": [
        "\n",
        "*   Draw in a plot the progress of the θ0 and θ1 parameters through the steps.\n",
        "\n"
      ],
      "metadata": {
        "id": "0kQZrZaaQ_P6"
      }
    },
    {
      "cell_type": "markdown",
      "source": [
        "\n",
        "*   Explain in your own words the purpose of the learning rate in gradient\n",
        "descent optimization.\n",
        "\n"
      ],
      "metadata": {
        "id": "wO94DSwlREg2"
      }
    },
    {
      "cell_type": "code",
      "source": [
        "import numpy as np\n",
        "import matplotlib.pyplot as plt\n",
        "\n",
        "# ================================\n",
        "# 1. Datos de entrada\n",
        "# ================================\n",
        "X = np.array([1, 2, 3, 4, 5])\n",
        "y = np.array([3, 6, 8, 11, 13])\n",
        "\n",
        "# ================================\n",
        "# 2. Inicialización\n",
        "# ================================\n",
        "theta0 = 1.0  # Intercepto\n",
        "theta1 = 0.0  # Pendiente\n",
        "\n",
        "learning_rate = 0.01\n",
        "iterations = 1000\n",
        "m = len(X)\n",
        "\n",
        "# Almacenar historial de parámetros\n",
        "theta0_history = []\n",
        "theta1_history = []\n",
        "\n",
        "# ================================\n",
        "# 3. Algoritmo de Descenso por Gradiente\n",
        "# ================================\n",
        "for i in range(iterations):\n",
        "    y_pred = theta0 + theta1 * X\n",
        "    error = y_pred - y\n",
        "\n",
        "    # Gradientes\n",
        "    grad_theta0 = (1/m) * np.sum(error)\n",
        "    grad_theta1 = (1/m) * np.sum(error * X)\n",
        "\n",
        "    # Actualización\n",
        "    theta0 -= learning_rate * grad_theta0\n",
        "    theta1 -= learning_rate * grad_theta1\n",
        "\n",
        "    # Guardar valores para graficar\n",
        "    theta0_history.append(theta0)\n",
        "    theta1_history.append(theta1)\n",
        "\n",
        "# ================================\n",
        "# 5. Visualización final: línea ajustada\n",
        "# ================================\n",
        "plt.figure(figsize=(10, 6))\n",
        "plt.scatter(X, y, color='blue', label='Datos reales')\n",
        "plt.plot(X, theta0 + theta1 * X, color='red', label='Línea ajustada')\n",
        "plt.title(\"Regresión Lineal usando Descenso por Gradiente\")\n",
        "plt.xlabel(\"X\")\n",
        "plt.ylabel(\"y\")\n",
        "plt.legend()\n",
        "plt.grid(True)\n",
        "plt.show()\n",
        "\n",
        "# ================================\n",
        "# 4. Gráfico del progreso de parámetros\n",
        "# ================================\n",
        "plt.figure(figsize=(10, 6))\n",
        "plt.plot(theta0_history, label='θ₀ (intercepto)')\n",
        "plt.plot(theta1_history, label='θ₁ (pendiente)')\n",
        "plt.title(\"Progreso de θ₀ y θ₁ durante el Descenso por Gradiente\")\n",
        "plt.xlabel(\"Iteraciones\")\n",
        "plt.ylabel(\"Valor del Parámetro\")\n",
        "plt.legend()\n",
        "plt.grid(True)\n",
        "plt.show()\n",
        "\n",
        "# ================================\n",
        "# 6. Resultados finales\n",
        "# ================================\n",
        "print(f\"Valor final de θ₀: {theta0:.4f}\")\n",
        "print(f\"Valor final de θ₁: {theta1:.4f}\")\n"
      ],
      "metadata": {
        "colab": {
          "base_uri": "https://localhost:8080/",
          "height": 1000
        },
        "id": "vROZakY4RXq6",
        "outputId": "6e1df597-7edb-430f-a252-c9faabf12eea"
      },
      "execution_count": 31,
      "outputs": [
        {
          "output_type": "display_data",
          "data": {
            "text/plain": [
              "<Figure size 1000x600 with 1 Axes>"
            ],
            "image/png": "[encoded data removed]"
          },
          "metadata": {}
        },
        {
          "output_type": "display_data",
          "data": {
            "text/plain": [
              "<Figure size 1000x600 with 1 Axes>"
            ],
            "image/png": "[encoded data removed]"
          },
          "metadata": {}
        },
        {
          "output_type": "stream",
          "name": "stdout",
          "text": [
            "Valor final de θ₀: 0.8698\n",
            "Valor final de θ₁: 2.4530\n"
          ]
        }
      ]
    },
    {
      "cell_type": "markdown",
      "source": [
        "La tasa de aprendizaje es un parametro que controla que tan rapido o lento puede aprender un algoritmo. Permite controlar que tan grande son los pasos que da el algoritmo para ajustar los valores de los parametros (como θ₀ y θ₁) durante las iteraciones del descenso por gradiente."
      ],
      "metadata": {
        "id": "g-PnwvOYUIEZ"
      }
    }
  ]
}